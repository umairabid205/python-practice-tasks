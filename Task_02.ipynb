{
 "cells": [
  {
   "cell_type": "code",
   "execution_count": 2,
   "metadata": {},
   "outputs": [
    {
     "name": "stdout",
     "output_type": "stream",
     "text": [
      "[3, 2, 4, 2, 4, 2, 7, 8, 6, 9]\n"
     ]
    }
   ],
   "source": [
    "#                       Task 1\n",
    "list_num =[]\n",
    "# loop to get input from user\n",
    "for i in range(10):\n",
    "    num = int(input(f\"Enter the Natural Number {i+1}\"))\n",
    "    list_num.append(num)\n",
    "\n",
    "#displaying the output\n",
    "print(list_num)"
   ]
  },
  {
   "cell_type": "code",
   "execution_count": 5,
   "metadata": {},
   "outputs": [
    {
     "name": "stdout",
     "output_type": "stream",
     "text": [
      "30\n"
     ]
    }
   ],
   "source": [
    "#                       Task 2\n",
    "index_list = [10, 20, 30, 40, 50]\n",
    "print(index_list[2])"
   ]
  },
  {
   "cell_type": "code",
   "execution_count": 15,
   "metadata": {},
   "outputs": [
    {
     "name": "stdout",
     "output_type": "stream",
     "text": [
      "Complete List: [1, 2, 3, 4, 5, 6, 7, 8, 9, 10]\n",
      "Got first five elements: slice_list[:5] ----> [1, 2, 3, 4, 5]\n"
     ]
    }
   ],
   "source": [
    "#                       Task 3\n",
    "slice_list = [1, 2, 3, 4, 5, 6, 7, 8, 9, 10]\n",
    "print(f\"Complete List: {slice_list}\")\n",
    "#slicing the list to get first five elements\n",
    "print(f\"Got first five elements: slice_list[:5] ----> {slice_list[:5]}\")"
   ]
  },
  {
   "cell_type": "code",
   "execution_count": 13,
   "metadata": {},
   "outputs": [
    {
     "name": "stdout",
     "output_type": "stream",
     "text": [
      "Before appending ['red', 'green', 'blue']\n",
      "After appending: ['red', 'green', 'blue', 'purple']\n"
     ]
    }
   ],
   "source": [
    "#                       Task 4\n",
    "append_list = ['red','green','blue']\n",
    "print(f\"Before appending {append_list}\")\n",
    "#appending an other element into the list\n",
    "append_list.append('purple')\n",
    "print(f\"After appending: {append_list}\")"
   ]
  },
  {
   "cell_type": "code",
   "execution_count": 11,
   "metadata": {},
   "outputs": [
    {
     "name": "stdout",
     "output_type": "stream",
     "text": [
      "Before Extending: ['apple', 'banana']\n",
      "After Extending: ['apple', 'banana', 'cherry', 'date']\n"
     ]
    }
   ],
   "source": [
    "#                       Task 5\n",
    "extend_list = ['apple','banana']\n",
    "print(f\"Before Extending: {extend_list}\")\n",
    "#etending the list\n",
    "extend_list.extend(['cherry','date'])\n",
    "print(f\"After Extending: {extend_list}\")"
   ]
  },
  {
   "cell_type": "code",
   "execution_count": 17,
   "metadata": {},
   "outputs": [
    {
     "name": "stdout",
     "output_type": "stream",
     "text": [
      "Before inserting: [10, 20, 30]\n",
      "After inserting 15 at 2nd: [10, 15, 20, 30]\n"
     ]
    }
   ],
   "source": [
    "#                       Task 6\n",
    "insert_list = [10,20,30]\n",
    "print(f\"Before inserting: {insert_list}\")\n",
    "insert_list.insert(1,15)\n",
    "print(f\"After inserting 15 at 2nd: {insert_list}\")"
   ]
  },
  {
   "cell_type": "code",
   "execution_count": 18,
   "metadata": {},
   "outputs": [
    {
     "name": "stdout",
     "output_type": "stream",
     "text": [
      "Before removing an element in list: ['apple', 'banana', 'cherry', 'banana']\n",
      "After removing first occurrence of the element 'banana': ['apple', 'cherry', 'banana']\n"
     ]
    }
   ],
   "source": [
    "#                       Task 7\n",
    "remove_list = ['apple', 'banana', 'cherry', 'banana']\n",
    "print(f\"Before removing an element in list: {remove_list}\")\n",
    "remove_list.remove(remove_list[1])\n",
    "print(f\"After removing first occurrence of the element 'banana': {remove_list}\")"
   ]
  },
  {
   "cell_type": "code",
   "execution_count": 20,
   "metadata": {},
   "outputs": [
    {
     "name": "stdout",
     "output_type": "stream",
     "text": [
      "Full list: [1, 2, 3, 4, 5]\n",
      "Poping an element: 5\n"
     ]
    }
   ],
   "source": [
    "#                       Task 8\n",
    "pop_list = [1,2,3,4,5]\n",
    "print(f\"Full list: {pop_list}\")\n",
    "print(f\"Poping an element: {pop_list.pop()}\")"
   ]
  },
  {
   "cell_type": "code",
   "execution_count": 23,
   "metadata": {},
   "outputs": [
    {
     "name": "stdout",
     "output_type": "stream",
     "text": [
      "Orignal list:  [1, 2, 3, 4, 5]\n",
      "Reversed list: [5, 4, 3, 2, 1]\n"
     ]
    }
   ],
   "source": [
    "#                       Task 9\n",
    "reverse_list = [1,2,3,4,5]\n",
    "print(\"Orignal list: \", reverse_list)\n",
    "print(f\"Reversed list: {sorted(reverse_list,reverse = True)}\")"
   ]
  },
  {
   "cell_type": "code",
   "execution_count": 24,
   "metadata": {},
   "outputs": [
    {
     "name": "stdout",
     "output_type": "stream",
     "text": [
      "Before sorted: ['John', 'Alice', 'Bob']\n",
      "After sorting: ['Alice', 'Bob', 'John']\n"
     ]
    }
   ],
   "source": [
    "#                      Task 10 \n",
    "sort_list = ['John', 'Alice', 'Bob']\n",
    "print(f\"Before sorted: {sort_list}\")\n",
    "# As it's a string it'll sort by alphabets\n",
    "print(f\"After sorting: {sorted(sort_list)}\")"
   ]
  },
  {
   "cell_type": "code",
   "execution_count": 29,
   "metadata": {},
   "outputs": [
    {
     "name": "stdout",
     "output_type": "stream",
     "text": [
      "Square of 10 Natural Numbers: [1, 4, 9, 16, 25, 36, 49, 64, 81, 100]\n"
     ]
    }
   ],
   "source": [
    "#                       Task 11\n",
    "\n",
    "Comprehension_list = [num**2 for num in range(1,11)]\n",
    "#   variable = [expression for item in number of iterations]   \n",
    "print(f\"Square of 10 Natural Numbers: {Comprehension_list}\")"
   ]
  },
  {
   "cell_type": "code",
   "execution_count": 30,
   "metadata": {},
   "outputs": [
    {
     "name": "stdout",
     "output_type": "stream",
     "text": [
      "Maximum value: 51\n",
      "Minimum value: 2\n"
     ]
    }
   ],
   "source": [
    "#                       Task 12\n",
    "numbers = [14, 2, 8, 6, 51]\n",
    "max_value = max(numbers)\n",
    "min_value = min(numbers)\n",
    "print(f\"Maximum value: {max_value}\")\n",
    "print(f\"Minimum value: {min_value}\")\n"
   ]
  },
  {
   "cell_type": "code",
   "execution_count": 31,
   "metadata": {},
   "outputs": [
    {
     "name": "stdout",
     "output_type": "stream",
     "text": [
      "Sum of elements: 81\n"
     ]
    }
   ],
   "source": [
    "#                       Task 13 \n",
    "numbers = [14, 2, 8, 6, 51]\n",
    "sum_of_elements = sum(numbers)\n",
    "print(f\"Sum of elements: {sum_of_elements}\")"
   ]
  },
  {
   "cell_type": "code",
   "execution_count": 33,
   "metadata": {},
   "outputs": [
    {
     "name": "stdout",
     "output_type": "stream",
     "text": [
      "Product of elements: 24\n"
     ]
    }
   ],
   "source": [
    "#                       Task 14\n",
    "numbers = [1, 2, 3, 4]\n",
    "product_of_elements = 1\n",
    "for num in numbers:\n",
    "    product_of_elements *= num\n",
    "print(f\"Product of elements: {product_of_elements}\")\n"
   ]
  },
  {
   "cell_type": "code",
   "execution_count": 34,
   "metadata": {},
   "outputs": [
    {
     "name": "stdout",
     "output_type": "stream",
     "text": [
      "List without duplicates: [1, 2, 3, 4, 5]\n"
     ]
    }
   ],
   "source": [
    "#                       Task 15\n",
    "numbers = [1, 2, 2, 3, 4, 4, 5]\n",
    "# converted into set bcz set don't store the duplicate values\n",
    "unique_numbers = list(set(numbers))\n",
    "print(f\"List without duplicates: {unique_numbers}\")"
   ]
  },
  {
   "cell_type": "code",
   "execution_count": 36,
   "metadata": {},
   "outputs": [
    {
     "name": "stdout",
     "output_type": "stream",
     "text": [
      "List of even numbers: [2, 4, 6, 8, 10]\n"
     ]
    }
   ],
   "source": [
    "#                      Task 16\n",
    "numbers = [1, 2, 3, 4, 5, 6, 7, 8, 9, 10]\n",
    "even_numbers = [num for num in numbers if num % 2 == 0]\n",
    "#even_numbers= [expression for item in iterable if condition == True]\n",
    "print(f\"List of even numbers: {even_numbers}\")\n"
   ]
  },
  {
   "cell_type": "code",
   "execution_count": 37,
   "metadata": {},
   "outputs": [
    {
     "name": "stdout",
     "output_type": "stream",
     "text": [
      "String: Hello\n"
     ]
    }
   ],
   "source": [
    "#                       Task 17\n",
    "char_list = ['H', 'e', 'l', 'l', 'o']\n",
    "string = ''.join(char_list)\n",
    "print(f\"String: {string}\")\n"
   ]
  },
  {
   "cell_type": "code",
   "execution_count": 39,
   "metadata": {},
   "outputs": [
    {
     "name": "stdout",
     "output_type": "stream",
     "text": [
      "List of characters: ['H', 'e', 'l', 'l', 'o']\n"
     ]
    }
   ],
   "source": [
    "#                       Task 18\n",
    "string = \"Hello\"\n",
    "char_list = list(string)\n",
    "print(f\"List of characters: {char_list}\")\n"
   ]
  },
  {
   "cell_type": "code",
   "execution_count": 40,
   "metadata": {},
   "outputs": [
    {
     "name": "stdout",
     "output_type": "stream",
     "text": [
      "Tuple with different data types: (42, 3.14, 'Hello')\n"
     ]
    }
   ],
   "source": [
    "#                       Task 19\n",
    "my_tuple = (42, 3.14, \"Hello\")\n",
    "print(f\"Tuple with different data types: {my_tuple}\")"
   ]
  },
  {
   "cell_type": "code",
   "execution_count": 41,
   "metadata": {},
   "outputs": [
    {
     "name": "stdout",
     "output_type": "stream",
     "text": [
      "Second element: b\n"
     ]
    }
   ],
   "source": [
    "#                       Task 20\n",
    "my_tuple = ('a', 'b', 'c', 'd')\n",
    "second_element = my_tuple[1]\n",
    "print(f\"Second element: {second_element}\")"
   ]
  },
  {
   "cell_type": "code",
   "execution_count": 43,
   "metadata": {},
   "outputs": [
    {
     "name": "stdout",
     "output_type": "stream",
     "text": [
      "Unpacked values: 1, 2, 3\n"
     ]
    }
   ],
   "source": [
    "#                       Task 21\n",
    "my_tuple = (1, 2, 3)\n",
    "a, b, c = my_tuple\n",
    "print(f\"Unpacked values: {a}, {b}, {c}\")\n"
   ]
  },
  {
   "cell_type": "code",
   "execution_count": 46,
   "metadata": {},
   "outputs": [
    {
     "name": "stdout",
     "output_type": "stream",
     "text": [
      "Tuple 1: (1, 2)\n",
      "Tuple2: (3, 4)\n",
      "Concatenated tuple: (1, 2, 3, 4)\n"
     ]
    }
   ],
   "source": [
    "#                       Task 22\n",
    "tuple1 = (1, 2)\n",
    "tuple2 = (3, 4)\n",
    "print(f\"Tuple 1: {tuple1}\\nTuple2: {tuple2}\")\n",
    "\n",
    "concatenated_tuple = tuple1 + tuple2\n",
    "print(f\"Concatenated tuple: {concatenated_tuple}\")\n"
   ]
  },
  {
   "cell_type": "code",
   "execution_count": 47,
   "metadata": {},
   "outputs": [
    {
     "name": "stdout",
     "output_type": "stream",
     "text": [
      "Repeated tuple: (1, 2, 3, 1, 2, 3, 1, 2, 3)\n"
     ]
    }
   ],
   "source": [
    "#                       Task 23\n",
    "my_tuple = (1, 2, 3)\n",
    "repeated_tuple = my_tuple * 3\n",
    "print(f\"Repeated tuple: {repeated_tuple}\")\n"
   ]
  },
  {
   "cell_type": "code",
   "execution_count": 62,
   "metadata": {},
   "outputs": [
    {
     "name": "stdout",
     "output_type": "stream",
     "text": [
      "Last three elements: (3, 4, 5)\n"
     ]
    }
   ],
   "source": [
    "#                          Task 24\n",
    "slice_tuple = (1, 2, 3, 4, 5)\n",
    "print(f\"Last three elements: {slice_tuple[-3:]}\")\n"
   ]
  },
  {
   "cell_type": "code",
   "execution_count": 60,
   "metadata": {},
   "outputs": [
    {
     "name": "stdout",
     "output_type": "stream",
     "text": [
      "Element 'b' exists: True\n"
     ]
    }
   ],
   "source": [
    "#                       Task 25\n",
    "my_tuple = ('a', 'b', 'c')\n",
    "element_exists = 'b' in my_tuple\n",
    "print(f\"Element 'b' exists: {element_exists}\")\n"
   ]
  },
  {
   "cell_type": "code",
   "execution_count": 59,
   "metadata": {},
   "outputs": [
    {
     "name": "stdout",
     "output_type": "stream",
     "text": [
      "Occurrences of 2: 2\n"
     ]
    }
   ],
   "source": [
    "#                       Task 26\n",
    "my_tuple = (1, 2, 2, 3, 4)\n",
    "count_of_twos = my_tuple.count(2)\n",
    "print(f\"Occurrences of 2: {count_of_twos}\")\n"
   ]
  },
  {
   "cell_type": "code",
   "execution_count": 58,
   "metadata": {},
   "outputs": [
    {
     "name": "stdout",
     "output_type": "stream",
     "text": [
      "Index of 'c': 2\n"
     ]
    }
   ],
   "source": [
    "#                       Task 27\n",
    "my_tuple = ('a', 'b', 'c', 'd')\n",
    "index_of_c = my_tuple.index('c')\n",
    "print(f\"Index of 'c': {index_of_c}\")\n"
   ]
  },
  {
   "cell_type": "code",
   "execution_count": 57,
   "metadata": {},
   "outputs": [
    {
     "name": "stdout",
     "output_type": "stream",
     "text": [
      "Converted list: [1, 2, 3]\n"
     ]
    }
   ],
   "source": [
    "#                       Task 28\n",
    "my_tuple = (1, 2, 3)\n",
    "converted_list = list(my_tuple)\n",
    "print(f\"Converted list: {converted_list}\")\n"
   ]
  },
  {
   "cell_type": "code",
   "execution_count": 56,
   "metadata": {},
   "outputs": [
    {
     "name": "stdout",
     "output_type": "stream",
     "text": [
      "Converted tuple: (1, 2, 3)\n"
     ]
    }
   ],
   "source": [
    "#                       Task 29\n",
    "my_list = [1, 2, 3]\n",
    "converted_tuple = tuple(my_list)\n",
    "print(f\"Converted tuple: {converted_tuple}\")"
   ]
  },
  {
   "cell_type": "code",
   "execution_count": 55,
   "metadata": {},
   "outputs": [
    {
     "name": "stdout",
     "output_type": "stream",
     "text": [
      "First element of the second tuple: 3\n"
     ]
    }
   ],
   "source": [
    "#                       Task 30\n",
    "nested_tuple = ((1, 2), (3, 4), (5, 6))\n",
    "first_element_of_second_tuple = nested_tuple[1][0]\n",
    "print(f\"First element of the second tuple: {first_element_of_second_tuple}\")\n"
   ]
  }
 ],
 "metadata": {
  "kernelspec": {
   "display_name": "Python 3",
   "language": "python",
   "name": "python3"
  },
  "language_info": {
   "codemirror_mode": {
    "name": "ipython",
    "version": 3
   },
   "file_extension": ".py",
   "mimetype": "text/x-python",
   "name": "python",
   "nbconvert_exporter": "python",
   "pygments_lexer": "ipython3",
   "version": "3.12.4"
  }
 },
 "nbformat": 4,
 "nbformat_minor": 2
}
